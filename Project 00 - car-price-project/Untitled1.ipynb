{
 "cells": [
  {
   "cell_type": "code",
   "execution_count": 1,
   "id": "bf78dc6c",
   "metadata": {},
   "outputs": [
    {
     "name": "stdout",
     "output_type": "stream",
     "text": [
      "Enter company name:Hyundai\n",
      "Enter vehicle name:i20 Magna\n",
      "Enter kms driven:50000\n",
      "Enter year:2018\n",
      "Enter fuel type:Diesel\n"
     ]
    }
   ],
   "source": [
    "company = input(\"Enter company name:\")\n",
    "name = input(\"Enter vehicle name:\")\n",
    "kms_driven = int(input(\"Enter kms driven:\"))\n",
    "year = int(input(\"Enter year:\"))\n",
    "fuel_type = input(\"Enter fuel type:\")"
   ]
  },
  {
   "cell_type": "code",
   "execution_count": 3,
   "id": "f2b93269",
   "metadata": {},
   "outputs": [],
   "source": [
    "import pickle as pkl\n",
    "import pandas as pd\n",
    "pipe = pkl.load(open(\"CPP.pkl\", \"rb\"))"
   ]
  },
  {
   "cell_type": "code",
   "execution_count": 6,
   "id": "57a95ac7",
   "metadata": {},
   "outputs": [
    {
     "data": {
      "text/html": [
       "<div>\n",
       "<style scoped>\n",
       "    .dataframe tbody tr th:only-of-type {\n",
       "        vertical-align: middle;\n",
       "    }\n",
       "\n",
       "    .dataframe tbody tr th {\n",
       "        vertical-align: top;\n",
       "    }\n",
       "\n",
       "    .dataframe thead th {\n",
       "        text-align: right;\n",
       "    }\n",
       "</style>\n",
       "<table border=\"1\" class=\"dataframe\">\n",
       "  <thead>\n",
       "    <tr style=\"text-align: right;\">\n",
       "      <th></th>\n",
       "      <th>company</th>\n",
       "      <th>name</th>\n",
       "      <th>kms_driven</th>\n",
       "      <th>year</th>\n",
       "      <th>fuel_type</th>\n",
       "    </tr>\n",
       "  </thead>\n",
       "  <tbody>\n",
       "    <tr>\n",
       "      <th>0</th>\n",
       "      <td>Hyundai</td>\n",
       "      <td>i20 Magna</td>\n",
       "      <td>50000</td>\n",
       "      <td>2018</td>\n",
       "      <td>Diesel</td>\n",
       "    </tr>\n",
       "  </tbody>\n",
       "</table>\n",
       "</div>"
      ],
      "text/plain": [
       "   company       name  kms_driven  year fuel_type\n",
       "0  Hyundai  i20 Magna       50000  2018    Diesel"
      ]
     },
     "execution_count": 6,
     "metadata": {},
     "output_type": "execute_result"
    }
   ],
   "source": [
    "data = [[company, name, kms_driven, year, fuel_type]]\n",
    "columns = [\"company\", \"name\", \"kms_driven\", \"year\", \"fuel_type\"]\n",
    "myinput = pd.DataFrame(columns = columns, data = data)\n",
    "myinput"
   ]
  },
  {
   "cell_type": "code",
   "execution_count": 7,
   "id": "8dd725b4",
   "metadata": {},
   "outputs": [
    {
     "data": {
      "text/plain": [
       "array([[506007.30122658]])"
      ]
     },
     "execution_count": 7,
     "metadata": {},
     "output_type": "execute_result"
    }
   ],
   "source": [
    "pipe.predict(myinput)"
   ]
  },
  {
   "cell_type": "code",
   "execution_count": null,
   "id": "e9e5fb08",
   "metadata": {},
   "outputs": [],
   "source": []
  }
 ],
 "metadata": {
  "kernelspec": {
   "display_name": "Python 3 (ipykernel)",
   "language": "python",
   "name": "python3"
  },
  "language_info": {
   "codemirror_mode": {
    "name": "ipython",
    "version": 3
   },
   "file_extension": ".py",
   "mimetype": "text/x-python",
   "name": "python",
   "nbconvert_exporter": "python",
   "pygments_lexer": "ipython3",
   "version": "3.11.4"
  }
 },
 "nbformat": 4,
 "nbformat_minor": 5
}
